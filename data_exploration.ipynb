{
 "cells": [
  {
   "cell_type": "markdown",
   "metadata": {},
   "source": [
    "# 0. Introduction\n",
    "\n",
    "## 0.1. What is Gammapy?\n",
    "\n",
    "Gammapy is an open-source Python package for gamma-ray astronomy. It is used as a core library for the \n",
    "Science Analysis tools of the Cherenkov Telescope Array (CTA). By now, it is also used by other Imaging Atmospheric Cherenkov Telescope (IACT) facilities such as MAGIC, VERITAS and H.E.S.S. and by Water Cherenkov Detectors (WCD) such as HAWC.\n",
    "\n",
    "![gammapy](figures/gammapy_package.png)"
   ]
  },
  {
   "cell_type": "markdown",
   "metadata": {},
   "source": [
    "## 0.2. The dataset of the hands-on sessions\n",
    "\n",
    "In the following Jupyter notebooks, we will analyse public data of the standard source at VHE gamma rays, the Crab Nebula. The notebooks also contain code to produce a light curve (LC) for the blazar PKS 2155-304, to be discussed if there is time, or you can go through it by yourself after the course, when you should have the tools and knowledge to produce an LC by yourself.\n",
    "\n",
    "## 0.3. H.E.S.S.\n",
    "\n",
    "[H.E.S.S.](https://www.mpi-hd.mpg.de/hfm/HESS/) is an array of 5 gamma-ray telescopes located in Namibia. The H.E.S.S. data is private, and H.E.S.S. analysis is mostly documented and discussed in the internal communication channels. However, in 2018, a small sub-set of archival H.E.S.S. data was publicly released, called the [H.E.S.S. DL3 DR1](https://www.mpi-hd.mpg.de/hfm/HESS/pages/dl3-dr1/), the data level 3, data release number 1. This is the observational data we will be using. The dataset contains observations of various sources with different types, such as a blazar, a pulsar wind nebula and a supernova remnant. You can check which observation (id) belongs to which source on the last three pages of [this](https://www.mpi-hd.mpg.de/HESS/pages/dl3-dr1/hess_dl3_dr1.pdf) document.\n",
    "\n",
    "## 0.4. MAGIC\n",
    "\n",
    "[MAGIC](https://magic.mpp.mpg.de/) are two IACTs on the canary island of La Palma, observing together in stereo mode since 2009. As for H.E.S.S., the data is private and is mostly analysed with a proprietary software, although it is possible to do a high-level analysis with Gammapy. Only recently the experiment has publicly released few observations of the Crab Nebula. We will not use these during the course but you may try solving the excercises at home, in which case you will also play with MAGIC data a bit."
   ]
  },
  {
   "cell_type": "markdown",
   "metadata": {},
   "source": [
    "# 1. IACT data exploration\n",
    "\n",
    "Let us now examine the data from H.E.S.S., a pointing instrument."
   ]
  },
  {
   "cell_type": "code",
   "execution_count": null,
   "metadata": {},
   "outputs": [],
   "source": [
    "# - basic dependencies (numpy, astropy, regions, matplotlib)\n",
    "import numpy as np\n",
    "import astropy.units as u\n",
    "from astropy.coordinates import SkyCoord, Angle\n",
    "from regions import PointSkyRegion, CircleSkyRegion, RectangleSkyRegion\n",
    "import matplotlib.pyplot as plt\n",
    "import matplotlib.image as mpimg\n",
    "\n",
    "# - Gammapy dependencies\n",
    "from gammapy.data import EventList, Observation, DataStore\n",
    "from gammapy.maps import Map, MapAxis\n",
    "from gammapy.stats import WStatCountsStatistic\n",
    "from gammapy.makers.utils import make_theta_squared_table\n",
    "from gammapy.visualization import plot_theta_squared_table"
   ]
  },
  {
   "cell_type": "markdown",
   "metadata": {},
   "source": [
    "## 1.1. Event lists\n",
    "\n",
    "The so-called event list, is one of the two fundamental parts of high-level gamma-ray data, as it contains fundamental observables of the events classified as gamma-rays (energy, coordinates, arrival time, etc...) that are essential for any astronomical or physical analysis."
   ]
  },
  {
   "cell_type": "code",
   "execution_count": null,
   "metadata": {},
   "outputs": [],
   "source": [
    "events = EventList.read(\n",
    "    \"data/hess-dl3-dr1/data/hess_dl3_dr1_obs_id_023523.fits.gz\"\n",
    ")\n",
    "print(events)"
   ]
  },
  {
   "cell_type": "code",
   "execution_count": null,
   "metadata": {},
   "outputs": [],
   "source": [
    "events.table"
   ]
  },
  {
   "cell_type": "markdown",
   "metadata": {},
   "source": [
    "Let us try to histogram energies and coordinates. The energy range of HESS goes from hundreds of GeV to tens of TeV. As for the extent of the region of the sky observed, let us quickly check it here!"
   ]
  },
  {
   "cell_type": "code",
   "execution_count": null,
   "metadata": {},
   "outputs": [],
   "source": [
    "delta_lon = np.max(events.galactic.l.value) - np.min(\n",
    "    events.galactic.l.value\n",
    ")\n",
    "delta_lat = np.max(events.galactic.b.value) - np.min(\n",
    "    events.galactic.b.value\n",
    ")\n",
    "print(f\"area of the sky observed: {delta_lon:.2f} deg x {delta_lat:.2f} deg\")"
   ]
  },
  {
   "cell_type": "markdown",
   "metadata": {},
   "source": [
    "Now we can check how the quantities stored in the list are distributed. Certainly energy and direction are the most important for astrophysical applications. But first, let us understand which reference frame we are using. We will consider _galactic coordinate system_, in this reference frame we have two coordinates:\n",
    "- a _longitude_, whose 0 angle represents the direction connecting the Earth to the centre of the Galaxy; \n",
    "- a _latitude_, whose 0 angle represents any point lying on the galactic plane."
   ]
  },
  {
   "cell_type": "code",
   "execution_count": null,
   "metadata": {},
   "outputs": [],
   "source": [
    "# read images\n",
    "img_1 = mpimg.imread(\"figures/longitude_diagram_300dpi-768x896.jpg\")\n",
    "img_2 = mpimg.imread(\"figures/latitude_diagram_300dpi-1024x683.jpg\")\n",
    "\n",
    "# display images\n",
    "fig, ax = plt.subplots(1, 2, width_ratios=[0.4, 0.6], figsize=(12, 8))\n",
    "ax[0].imshow(img_1)\n",
    "ax[0].axis(\"off\")\n",
    "ax[1].imshow(img_2)\n",
    "ax[1].axis(\"off\")\n",
    "plt.show()"
   ]
  },
  {
   "cell_type": "code",
   "execution_count": null,
   "metadata": {},
   "outputs": [],
   "source": [
    "print(f\"maximum and minimum longitude: {np.max(events.galactic.l.value):.2f} deg, {np.min(events.galactic.l.value):.2f} deg\")\n",
    "print(f\"maximum and minimum latitude: {np.max(events.galactic.b.value):.2f} deg, {np.min(events.galactic.b.value):.2f} deg\")"
   ]
  },
  {
   "cell_type": "code",
   "execution_count": null,
   "metadata": {},
   "outputs": [],
   "source": [
    "fig, ax = plt.subplots(1, 3, figsize=(12, 4))\n",
    "\n",
    "lon_bins = np.linspace(180, 190, 20)\n",
    "lat_bins = np.linspace(-13, 0, 20)\n",
    "energy_bins = np.logspace(-1, 3, 20)  # 10 GeV to 10 TeV (events energies are in TeV)\n",
    "\n",
    "ax[0].hist(events.galactic.l.value, bins=lon_bins)\n",
    "ax[1].hist(events.galactic.b.value, bins=lat_bins)\n",
    "ax[2].hist(events.energy.value, bins=energy_bins)\n",
    "\n",
    "ax[0].set_xlabel(\"Galactic Longitude \" + r\"$/\\,^{\\circ}$\")\n",
    "ax[1].set_xlabel(\"Galactic Latitude \" + r\"$/\\,^{\\circ}$\")\n",
    "ax[2].set_xscale(\"log\")\n",
    "ax[2].set_yscale(\"log\")\n",
    "ax[2].set_xlabel(\"Energy / TeV\")\n",
    "ax[0].set_ylabel(\"counts\")\n",
    "plt.show()"
   ]
  },
  {
   "cell_type": "markdown",
   "metadata": {},
   "source": [
    "## 1.2. What is an observation?\n",
    "\n",
    "Each observation consists of ~20 min of data taking. The data that we will use is already processed and ready for scientific analysis. It is stored in a \"fits\" file format. A standard digital file format useful for storage of astronomy data (mostly images, but tables as well). For each observation, the information required to produce scientific results is:\n",
    "\n",
    "- Events table\n",
    "- Good Time Interval\n",
    "- Instrument Response Functions"
   ]
  },
  {
   "cell_type": "code",
   "execution_count": null,
   "metadata": {},
   "outputs": [],
   "source": [
    "obs = Observation.read(\n",
    "    \"data/hess-dl3-dr1/data/hess_dl3_dr1_obs_id_020136.fits.gz\"\n",
    ")\n",
    "print(obs)"
   ]
  },
  {
   "cell_type": "markdown",
   "metadata": {},
   "source": [
    "Instead of looking at only one observation we can also load all the data at once using the DataStore class of Gammapy. The DataStore object allows to read all the fits files in a directory, provided that we have generated and included in the folder two auxiliary files after we have produced the DL3 data: the obs-index.fits.gz and the hdu-index.fits.gz. They are summary files listing all observations inside a directory."
   ]
  },
  {
   "cell_type": "code",
   "execution_count": null,
   "metadata": {
    "collapsed": false,
    "jupyter": {
     "outputs_hidden": false
    }
   },
   "outputs": [],
   "source": [
    "data_store = DataStore.from_dir(\"data/hess-dl3-dr1\")\n",
    "data_store.info()"
   ]
  },
  {
   "cell_type": "markdown",
   "metadata": {},
   "source": [
    "From there we can extract a list of observations, choosing from the available observation IDs or loading all observations inside the directory we specified."
   ]
  },
  {
   "cell_type": "code",
   "execution_count": null,
   "metadata": {},
   "outputs": [],
   "source": [
    "#obs_ids = [23523, 33798, 33799]\n",
    "#observations = data_store.get_observations(obs_ids)\n",
    "\n",
    "observations = data_store.get_observations(required_irf=[\"psf\", \"aeff\", \"edisp\"])\n",
    "\n",
    "observations[0].peek()"
   ]
  },
  {
   "cell_type": "markdown",
   "metadata": {},
   "source": [
    "We can also preview an excerpt from the observation table, get a single observation or select and peek events. We have done most of this before but using less general classes of Gammapy."
   ]
  },
  {
   "cell_type": "code",
   "execution_count": null,
   "metadata": {
    "collapsed": false,
    "jupyter": {
     "outputs_hidden": false
    }
   },
   "outputs": [],
   "source": [
    "display(data_store.obs_table[:2][[\"OBS_ID\", \"DATE-OBS\", \"RA_PNT\", \"DEC_PNT\", \"OBJECT\"]])"
   ]
  },
  {
   "cell_type": "code",
   "execution_count": null,
   "metadata": {
    "collapsed": false,
    "jupyter": {
     "outputs_hidden": false
    }
   },
   "outputs": [],
   "source": [
    "obs = data_store.obs(23523)"
   ]
  },
  {
   "cell_type": "code",
   "execution_count": null,
   "metadata": {
    "collapsed": false,
    "jupyter": {
     "outputs_hidden": false
    }
   },
   "outputs": [],
   "source": [
    "obs.events.select_offset([0,2.5] * u.deg).peek()"
   ]
  },
  {
   "cell_type": "markdown",
   "metadata": {},
   "source": [
    "## 1.3. Instrument Response Functions\n",
    "\n",
    "An IRF is a characterisation of the telescope performance. It is the second component of our standardised, high-level, gamma-ray data. The IRF parameterises the response of the systems, meaning, it tells us how estimated quantities relate to real one (e.g. reconstructed vs true energy). It also gives us the possibility to convert observables from the \"detector world\" (e.g. counts) to the \"physical world\" (e.g. fluxes).\n",
    "\n",
    "\"The instrument response functions (IRFs) provide a mathematical description that links the reconstructed photon arrival direction 𝑝′, energy 𝐸′ and trigger time 𝑡′ of an event to the true incident direction 𝑝, energy 𝐸 and time 𝑡 of a photon.\"\n",
    "\n",
    "![IRFs](figures/irfs.jpg)\n",
    "\n",
    "Given the real emission of the source, we indirectly detect the emission through the telescope, which is more or less efficient depending on energy, resolution, etc. From the recorded and reconstructed information we obtain, we have to recover the real emission. This requires knowing the telescope performance (IRFs). In optical astronomy, the IRFs would be something like the quantum efficiency of the detector.\n",
    "\n",
    "For IACTs, the IRFs are formed by:\n",
    "- Effective area\n",
    "- Energy dispersion matrix\n",
    "- Point spread function\n",
    "\n",
    "### 1.3.1. Effective area\n",
    "\n",
    "It is the effective collection area of the detector (unit: $m^2$). It is the product of the detector collection area times its detection efficiency at true energy $E_{true}$ and position $p_{true}$. The higher this value the better."
   ]
  },
  {
   "cell_type": "code",
   "execution_count": null,
   "metadata": {
    "collapsed": false,
    "jupyter": {
     "outputs_hidden": false
    }
   },
   "outputs": [],
   "source": [
    "obs.aeff.plot()"
   ]
  },
  {
   "cell_type": "markdown",
   "metadata": {},
   "source": [
    "This IRF component is a function of the energy and of the offset. As we are observing a small area of the sky, the spatial dependence of the IRF is more conveniently expressed as a function of the detector coordinates (offset from the camera centre rather than sky coordinates, in this case). If the source of our interest sits, for example at $0.4^{\\circ}$ or $1^{\\circ}$ degrees from the camera centre, we can evaluate the effective area there."
   ]
  },
  {
   "cell_type": "code",
   "execution_count": null,
   "metadata": {},
   "outputs": [],
   "source": [
    "fig, ax = plt.subplots()\n",
    "obs.aeff.plot_energy_dependence(ax=ax, offset=[Angle(\"0.4 deg\"), Angle(\"1 deg\")])\n",
    "ax.set_yscale(\"log\")\n",
    "plt.show()"
   ]
  },
  {
   "cell_type": "markdown",
   "metadata": {},
   "source": [
    "### 1.3.2. Energy dispersion matrix\n",
    "\n",
    "It gives the probability of reconstructing the photon at energy $E$ when the true energy is $E_{true}$ and the true position $p_{true}$. The less dispersion the better. Too see some quick overview plots we can also use the peek function in Gammapy."
   ]
  },
  {
   "cell_type": "code",
   "execution_count": null,
   "metadata": {
    "collapsed": false,
    "jupyter": {
     "outputs_hidden": false
    }
   },
   "outputs": [],
   "source": [
    "obs.edisp.peek()"
   ]
  },
  {
   "cell_type": "markdown",
   "metadata": {},
   "source": [
    "### 1.3.3. Point spread function\n",
    "\n",
    "It gives the probability of measuring a direction $p$ when the true direction is $p_{true}$ and the true energy is $E_{true}$. Smaller radius values are better for the PSF, because they indicate a better separation power of the system."
   ]
  },
  {
   "cell_type": "code",
   "execution_count": null,
   "metadata": {
    "collapsed": false,
    "jupyter": {
     "outputs_hidden": false
    }
   },
   "outputs": [],
   "source": [
    "obs.psf.peek()"
   ]
  },
  {
   "cell_type": "markdown",
   "metadata": {},
   "source": [
    "# 2. Exercises for this tutorial\n",
    "\n",
    "Among the publicly available data there is also some Crab Nebula data from the MAGIC telescopes (you can find it under data/magic on the git repository). You will need that data for the following excercises.\n",
    "\n",
    "## 2.1.\n",
    "Open a MAGIC and a H.E.S.S. observation of the Crab Nebula (you can check which observation ID belongs to which source on the last three pages of [this](https://www.mpi-hd.mpg.de/HESS/pages/dl3-dr1/hess_dl3_dr1.pdf) document). Select a circular region of $0.2^{\\circ}$ around the nominal coordinates of the Crab Nebula following the instructions below. Using both the MAGIC and the H.E.S.S. observations, create a histogram of the counts vs energy for the events contained in that region (plot both counts histograms in the same region). Here follows an example of how to select events from an EventList object inside a circular region (in this example there will be no events left after the selection because the observation run that is used is not corresponding to the coordinates of the object _Markarian 501_):\n",
    "\n",
    "```\n",
    "events = EventList.read(\n",
    "    \"hess-dl3-dr1/data/hess_dl3_dr1_obs_id_033792.fits.gz\"\n",
    ")\n",
    "coordinates = SkyCoord.from_name(\"Markarian 501\")\n",
    "on_region = CircleSkyRegion(center=coordinates, radius=0.5 * u.deg)\n",
    "on_events = events.select_region(on_region)\n",
    "```\n",
    "\n",
    "## 2.2.\n",
    "Compare the effective areas of the MAGIC and H.E.S.S. observations at an offset of $0.4^{\\circ}$ degree."
   ]
  },
  {
   "cell_type": "code",
   "execution_count": null,
   "metadata": {},
   "outputs": [],
   "source": []
  }
 ],
 "metadata": {
  "kernelspec": {
   "display_name": "kernel_gammapy-1.3",
   "language": "python",
   "name": "kernel_gammapy-1.3"
  },
  "language_info": {
   "codemirror_mode": {
    "name": "ipython",
    "version": 3
   },
   "file_extension": ".py",
   "mimetype": "text/x-python",
   "name": "python",
   "nbconvert_exporter": "python",
   "pygments_lexer": "ipython3",
   "version": "3.11.11"
  }
 },
 "nbformat": 4,
 "nbformat_minor": 4
}
